{
 "cells": [
  {
   "cell_type": "code",
   "execution_count": 1294,
   "id": "803726e5",
   "metadata": {},
   "outputs": [],
   "source": [
    "import os\n",
    "import numpy as np\n",
    "import cv2\n",
    "import math\n",
    "from scipy import ndimage\n",
    "import pandas as pd\n",
    "import matplotlib.pyplot as plt\n",
    "import seaborn as sns\n"
   ]
  },
  {
   "cell_type": "code",
   "execution_count": 1295,
   "id": "9d16d761",
   "metadata": {},
   "outputs": [
    {
     "name": "stdout",
     "output_type": "stream",
     "text": [
      "\u001b[33mWARNING: Skipping tensorflow-gpu as it is not installed.\u001b[0m\u001b[33m\n",
      "\u001b[0mNote: you may need to restart the kernel to use updated packages.\n"
     ]
    }
   ],
   "source": [
    "pip uninstall tensorflow-gpu"
   ]
  },
  {
   "cell_type": "code",
   "execution_count": 1296,
   "id": "051140c7",
   "metadata": {},
   "outputs": [],
   "source": [
    "from sklearn.metrics import mean_squared_error, mean_absolute_error"
   ]
  },
  {
   "cell_type": "code",
   "execution_count": 1834,
   "id": "e3f17b0c",
   "metadata": {},
   "outputs": [
    {
     "name": "stdout",
     "output_type": "stream",
     "text": [
      "['GC_1', 'GC_5', 'GC_2', 'GC_3', 'GC_4']\n",
      "------\n",
      "GC_1\n",
      "------\n",
      "we rotated the angle by 0\n",
      "Hough Angle is -0.5305\n",
      "Hough Angle Corrected is 0.5305\n",
      "------\n",
      "we rotated the angle by 36\n",
      "Hough Angle is -34.8809\n",
      "Hough Angle Corrected is 34.8809\n",
      "------\n",
      "we rotated the angle by 72\n",
      "Hough Angle is 17.9942\n",
      "Hough Angle Corrected is 162.0058\n",
      "------\n",
      "we rotated the angle by 108\n",
      "Hough Angle is 45.0000\n",
      "Hough Angle Corrected is 135.0000\n",
      "------\n",
      "we rotated the angle by 144\n",
      "Hough Angle is 35.1286\n",
      "Hough Angle Corrected is 144.8714\n",
      "------\n",
      "we rotated the angle by 180\n",
      "Hough Angle is -1.8476\n",
      "Hough Angle Corrected is 1.8476\n",
      "------\n",
      "we rotated the angle by 216\n",
      "Hough Angle is 45.0000\n",
      "Hough Angle Corrected is 135.0000\n",
      "------\n",
      "we rotated the angle by 252\n",
      "Hough Angle is 15.1240\n",
      "Hough Angle Corrected is 164.8760\n",
      "------\n",
      "we rotated the angle by 288\n",
      "Hough Angle is -17.0674\n",
      "Hough Angle Corrected is 17.0674\n",
      "------\n",
      "we rotated the angle by 324\n",
      "Hough Angle is 34.1145\n",
      "Hough Angle Corrected is 145.8855\n",
      "------\n",
      "GC_5\n",
      "------\n",
      "we rotated the angle by 0\n",
      "Hough Angle is 0.0000\n",
      "Hough Angle Corrected is -0.0000\n",
      "------\n",
      "we rotated the angle by 36\n",
      "Hough Angle is -34.9475\n",
      "Hough Angle Corrected is 34.9475\n",
      "------\n",
      "we rotated the angle by 72\n",
      "Hough Angle is 17.9279\n",
      "Hough Angle Corrected is 162.0721\n",
      "------\n",
      "we rotated the angle by 108\n",
      "Hough Angle is 72.2417\n",
      "Hough Angle Corrected is 107.7583\n",
      "------\n",
      "we rotated the angle by 144\n",
      "Hough Angle is 36.0442\n",
      "Hough Angle Corrected is 143.9558\n",
      "------\n",
      "we rotated the angle by 180\n",
      "Hough Angle is 0.0000\n",
      "Hough Angle Corrected is -0.0000\n",
      "------\n",
      "we rotated the angle by 216\n",
      "Hough Angle is -35.1206\n",
      "Hough Angle Corrected is 35.1206\n",
      "------\n",
      "we rotated the angle by 252\n",
      "Hough Angle is -70.8210\n",
      "Hough Angle Corrected is 70.8210\n",
      "------\n",
      "we rotated the angle by 288\n",
      "Hough Angle is -13.8101\n",
      "Hough Angle Corrected is 13.8101\n",
      "------\n",
      "we rotated the angle by 324\n",
      "Hough Angle is 35.1403\n",
      "Hough Angle Corrected is 144.8597\n",
      "------\n",
      "GC_2\n",
      "------\n",
      "we rotated the angle by 0\n",
      "Hough Angle is 0.0000\n",
      "Hough Angle Corrected is -0.0000\n",
      "------\n",
      "we rotated the angle by 36\n",
      "Hough Angle is -34.9433\n",
      "Hough Angle Corrected is 34.9433\n",
      "------\n",
      "we rotated the angle by 72\n",
      "Hough Angle is 16.8986\n",
      "Hough Angle Corrected is 163.1014\n",
      "------\n",
      "we rotated the angle by 108\n",
      "Hough Angle is -17.9966\n",
      "Hough Angle Corrected is 17.9966\n",
      "------\n",
      "we rotated the angle by 144\n",
      "Hough Angle is -53.9503\n",
      "Hough Angle Corrected is 53.9503\n",
      "------\n",
      "we rotated the angle by 180\n",
      "Hough Angle is 0.0000\n",
      "Hough Angle Corrected is -0.0000\n",
      "------\n",
      "we rotated the angle by 216\n",
      "Hough Angle is 51.9420\n",
      "Hough Angle Corrected is 128.0580\n",
      "------\n",
      "we rotated the angle by 252\n",
      "Hough Angle is 17.0066\n",
      "Hough Angle Corrected is 162.9934\n",
      "------\n",
      "we rotated the angle by 288\n",
      "Hough Angle is -17.9942\n",
      "Hough Angle Corrected is 17.9942\n",
      "------\n",
      "we rotated the angle by 324\n",
      "Hough Angle is -54.0733\n",
      "Hough Angle Corrected is 54.0733\n",
      "------\n",
      "GC_3\n",
      "------\n",
      "we rotated the angle by 0\n",
      "Hough Angle is -8.8520\n",
      "Hough Angle Corrected is 8.8520\n",
      "------\n",
      "we rotated the angle by 36\n",
      "Hough Angle is -37.1763\n",
      "Hough Angle Corrected is 37.1763\n",
      "------\n",
      "we rotated the angle by 72\n",
      "Hough Angle is -73.2127\n",
      "Hough Angle Corrected is 73.2127\n",
      "------\n",
      "we rotated the angle by 108\n",
      "Hough Angle is 68.1428\n",
      "Hough Angle Corrected is 111.8572\n",
      "------\n",
      "we rotated the angle by 144\n",
      "Hough Angle is 26.2254\n",
      "Hough Angle Corrected is 153.7746\n",
      "------\n",
      "we rotated the angle by 180\n",
      "Hough Angle is -8.9863\n",
      "Hough Angle Corrected is 8.9863\n",
      "------\n",
      "we rotated the angle by 216\n",
      "Hough Angle is -38.9840\n",
      "Hough Angle Corrected is 38.9840\n",
      "------\n",
      "we rotated the angle by 252\n",
      "Hough Angle is -72.6884\n",
      "Hough Angle Corrected is 72.6884\n",
      "------\n",
      "we rotated the angle by 288\n",
      "Hough Angle is 68.8243\n",
      "Hough Angle Corrected is 111.1757\n",
      "------\n",
      "we rotated the angle by 324\n",
      "Hough Angle is 26.9036\n",
      "Hough Angle Corrected is 153.0964\n",
      "------\n",
      "GC_4\n",
      "------\n",
      "we rotated the angle by 0\n",
      "Hough Angle is -0.5509\n",
      "Hough Angle Corrected is 0.5509\n",
      "------\n",
      "we rotated the angle by 36\n",
      "Hough Angle is -37.0482\n",
      "Hough Angle Corrected is 37.0482\n",
      "------\n",
      "we rotated the angle by 72\n",
      "Hough Angle is -71.9753\n",
      "Hough Angle Corrected is 71.9753\n",
      "------\n",
      "we rotated the angle by 108\n",
      "Hough Angle is -13.8075\n",
      "Hough Angle Corrected is 13.8075\n",
      "------\n",
      "we rotated the angle by 144\n",
      "Hough Angle is 34.9920\n",
      "Hough Angle Corrected is 145.0080\n",
      "------\n",
      "we rotated the angle by 180\n",
      "Hough Angle is -0.6740\n",
      "Hough Angle Corrected is 0.6740\n",
      "------\n",
      "we rotated the angle by 216\n",
      "Hough Angle is -37.0199\n",
      "Hough Angle Corrected is 37.0199\n",
      "------\n",
      "we rotated the angle by 252\n",
      "Hough Angle is -72.8015\n",
      "Hough Angle Corrected is 72.8015\n",
      "------\n",
      "we rotated the angle by 288\n",
      "Hough Angle is -13.9481\n",
      "Hough Angle Corrected is 13.9481\n",
      "------\n",
      "we rotated the angle by 324\n",
      "Hough Angle is 34.9920\n",
      "Hough Angle Corrected is 145.0080\n",
      "CPU times: user 3.53 s, sys: 141 ms, total: 3.67 s\n",
      "Wall time: 3.42 s\n"
     ]
    }
   ],
   "source": [
    "%%time\n",
    "\n",
    "# Master list for all angles calculated from different image folders\n",
    "CalculatedAngleMain_dict = {}\n",
    "# Directory with all images\n",
    "path = '/Users/supriyanallan/Desktop/FRAME/Task 2'\n",
    "# Class to calculate Hough lines for\n",
    "img_class = 'GiftCards_Rotation'\n",
    "# Naming convention for images within folder\n",
    "img_name = 'imgc'\n",
    "# All folders within image class folder\n",
    "img_folders = os.listdir(f'{path}/{img_class}')\n",
    "# List of top n line lengths for each set of lines\n",
    "lsMaxLengths = {}\n",
    "\n",
    "\n",
    "try:\n",
    "    img_folders.remove('.DS_Store')\n",
    "    img_folders.remove('.ipynb_checkpoints')\n",
    "except ValueError:\n",
    "    pass\n",
    "print(img_folders)    \n",
    "\n",
    "# Iterate through image class folder\n",
    "for folder in img_folders:\n",
    "    print('------')\n",
    "    print(folder)\n",
    "    lsRotations = []\n",
    "    lsCalculatedAngle = []\n",
    "    lsmax_lengths = []\n",
    "    for i in range(10):\n",
    "        print('------')\n",
    "        print('we rotated the angle by',i*36)\n",
    "        if i*36 < 180:\n",
    "            lsRotations.append(i*36)\n",
    "        else:\n",
    "            lsRotations.append((i*36)-180)\n",
    "        \n",
    "        img_before = cv2.imread(f'{path}/{img_class}/{folder}/{img_name}_{i*36}.png')\n",
    "        img_gray = cv2.cvtColor(img_before, cv2.COLOR_BGR2GRAY)\n",
    "        img_edges = cv2.Canny(img_gray, 100, 100, apertureSize=3)\n",
    "        lines = cv2.HoughLinesP(img_edges, 1, math.pi / 180.0, 100, minLineLength=100, maxLineGap=5)\n",
    "        lengths_angles_dict = {}\n",
    "        \n",
    "        #lsLinesLengths2 = []\n",
    "        for [[x1, y1, x2, y2]] in lines:\n",
    "            cv2.line(img_before, (x1, y1), (x2, y2), (255, 0, 0), 3)\n",
    "            angle = math.degrees(math.atan2(y2 - y1, x2 - x1))\n",
    "            length = np.linalg.norm(np.array((x1,y1))-np.array((x2,y2)))\n",
    "            lengths_angles_dict[length] = angle\n",
    "        #lsLinesLengths1.append(lsLinesLengths2)\n",
    "        \n",
    "        # n longest line lengths to query, if you want to use all lines to calculate angle set to len(list(lengths_angles_dict.keys()))\n",
    "        n = 15\n",
    "        max_lengths = sorted(lengths_angles_dict.keys(), reverse=True)[:n]\n",
    "        lsmax_lengths.append(max_lengths)\n",
    "        angles = []\n",
    "        for key in max_lengths:\n",
    "               angles.append(lengths_angles_dict[key])\n",
    "\n",
    "\n",
    "        median_angle = np.median(angles)\n",
    "        median_angle_alt = 0\n",
    "        if median_angle > 0:\n",
    "            median_angle_alt = 180 - median_angle\n",
    "        else:\n",
    "            median_angle_alt = -1* median_angle\n",
    "        lsCalculatedAngle.append(median_angle_alt)\n",
    "        #img_rotated = ndimage.rotate(img_before, median_angle)\n",
    "    \n",
    "        print(f\"Hough Angle is {median_angle:.04f}\")\n",
    "        print(f\"Hough Angle Corrected is {median_angle_alt:.04f}\")\n",
    "     \n",
    "    lsMaxLengths[folder] = lsmax_lengths\n",
    "    CalculatedAngleMain_dict[folder] = lsCalculatedAngle\n",
    "    #LineLengthsMain[folder] = lsLinesLengths1\n",
    "        \n",
    "    #cv2.imshow(\"Detected lines\", img_before)    \n",
    "    #key = cv2.waitKey(0)\n",
    "    #cv2.imwrite('rotated.jpg', img_rotated) "
   ]
  },
  {
   "cell_type": "code",
   "execution_count": 1835,
   "id": "e764fde8-8cd0-4b82-81c5-983a1edd270a",
   "metadata": {},
   "outputs": [
    {
     "data": {
      "text/plain": [
       "309.2313050129304"
      ]
     },
     "execution_count": 1835,
     "metadata": {},
     "output_type": "execute_result"
    }
   ],
   "source": [
    "np.median(lsMaxLengths['GC_5'][1])"
   ]
  },
  {
   "cell_type": "code",
   "execution_count": 1825,
   "id": "baa0f50f",
   "metadata": {},
   "outputs": [],
   "source": [
    "# Dictionary with folder names as keys that give the MSE for each of the images\n",
    "MSE_dict = {}\n",
    "for key in list(CalculatedAngleMain_dict.keys()):\n",
    "    MSE_dict[key] = math.sqrt(mean_squared_error(lsRotations, CalculatedAngleMain_dict[key]))"
   ]
  },
  {
   "cell_type": "code",
   "execution_count": 1826,
   "id": "5ad4b609",
   "metadata": {},
   "outputs": [
    {
     "data": {
      "text/plain": [
       "dict_values([59.61123144182063, 41.21746227240933, 75.7974118490999, 6.120425652904788, 42.09935374085112])"
      ]
     },
     "execution_count": 1826,
     "metadata": {},
     "output_type": "execute_result"
    }
   ],
   "source": [
    "MSE_dict.values()"
   ]
  },
  {
   "cell_type": "code",
   "execution_count": 1827,
   "id": "22407ebe",
   "metadata": {},
   "outputs": [],
   "source": [
    "from statistics import mean"
   ]
  },
  {
   "cell_type": "code",
   "execution_count": 1828,
   "id": "53996690",
   "metadata": {},
   "outputs": [
    {
     "data": {
      "text/plain": [
       "44.96917699141715"
      ]
     },
     "execution_count": 1828,
     "metadata": {},
     "output_type": "execute_result"
    }
   ],
   "source": [
    "mean(MSE_dict.values())"
   ]
  },
  {
   "cell_type": "code",
   "execution_count": 1829,
   "id": "02cb9c2d",
   "metadata": {},
   "outputs": [],
   "source": [
    "MAE_dict = {}\n",
    "for key in list(CalculatedAngleMain_dict.keys()):\n",
    "    MAE_dict[key] = (mean_absolute_error(lsRotations, CalculatedAngleMain_dict[key])) "
   ]
  },
  {
   "cell_type": "code",
   "execution_count": 1830,
   "id": "75d1de8f",
   "metadata": {},
   "outputs": [
    {
     "data": {
      "text/plain": [
       "dict_values([40.60684766580043, 18.851863928200736, 63.5195109952583, 4.9803672937673396, 19.43795837007718])"
      ]
     },
     "execution_count": 1830,
     "metadata": {},
     "output_type": "execute_result"
    }
   ],
   "source": [
    "MAE_dict.values()\n"
   ]
  },
  {
   "cell_type": "code",
   "execution_count": 1831,
   "id": "3c6dc886",
   "metadata": {},
   "outputs": [
    {
     "data": {
      "text/plain": [
       "29.4793096506208"
      ]
     },
     "execution_count": 1831,
     "metadata": {},
     "output_type": "execute_result"
    }
   ],
   "source": [
    "mean(MAE_dict.values())"
   ]
  },
  {
   "cell_type": "code",
   "execution_count": 1832,
   "id": "94c5ae2a",
   "metadata": {},
   "outputs": [],
   "source": [
    "lsCalculatedAngle1 = CalculatedAngleMain_dict['GC_1']\n",
    "lsCalculatedAngle2 = CalculatedAngleMain_dict['GC_2']\n",
    "lsCalculatedAngle3 = CalculatedAngleMain_dict['GC_3']\n",
    "lsCalculatedAngle4 = CalculatedAngleMain_dict['GC_4']\n",
    "lsCalculatedAngle5 = CalculatedAngleMain_dict['GC_5']"
   ]
  },
  {
   "cell_type": "code",
   "execution_count": 1833,
   "id": "461dafba",
   "metadata": {},
   "outputs": [
    {
     "data": {
      "image/png": "[encoded data removed]",
      "text/plain": [
       "<Figure size 720x720 with 5 Axes>"
      ]
     },
     "metadata": {
      "needs_background": "light"
     },
     "output_type": "display_data"
    }
   ],
   "source": [
    "# Initialise the subplot function using number of rows and columns\n",
    "figure, axis = plt.subplots(3, 2, figsize = (10,10))\n",
    "\n",
    "axis[0, 0].scatter(lsRotations, lsCalculatedAngle1)\n",
    "axis[0, 0].set_title(\"GiftCards 1\")\n",
    "  \n",
    "axis[0, 1].scatter(lsRotations, lsCalculatedAngle2)\n",
    "axis[0, 1].set_title(\"GiftCards 2\")\n",
    "\n",
    "axis[1, 0].scatter(lsRotations, lsCalculatedAngle3)\n",
    "axis[1, 0].set_title(\"GiftCards 3\")\n",
    " \n",
    "# For Tanh Function\n",
    "axis[1, 1].scatter(lsRotations, lsCalculatedAngle4)\n",
    "axis[1, 1].set_title(\"GiftCards 4\")\n",
    "\n",
    "axis[2, 0].scatter(lsRotations, lsCalculatedAngle5)\n",
    "axis[2, 0].set_title(\"GiftCards 5\")\n",
    "\n",
    "for ax in axis.flat:\n",
    "    ax.set(xlabel='Rotation', ylabel='Angle Calculated')\n",
    "\n",
    "figure.delaxes(axis[2,1])\n",
    "# Combine all the operations and display\n",
    "plt.tight_layout()\n",
    "plt.show()"
   ]
  },
  {
   "cell_type": "code",
   "execution_count": null,
   "id": "6b406729",
   "metadata": {},
   "outputs": [],
   "source": [
    "np.corrcoef(lsRotations,lsCalculatedAngle2)"
   ]
  },
  {
   "cell_type": "code",
   "execution_count": null,
   "id": "67b8c6fe",
   "metadata": {},
   "outputs": [],
   "source": [
    "sns.regplot(lsRotations, lsCalculatedAngle5)\n",
    "plt.xlabel(\"Wall rotations\")\n",
    "plt.ylabel(\"Angle Calculated\")\n",
    "plt.title(\"A plot to show correlation between Wall rotations and angle calculated\")"
   ]
  },
  {
   "cell_type": "code",
   "execution_count": null,
   "id": "347796c5-81be-49c2-a820-22b60a7a0f38",
   "metadata": {},
   "outputs": [],
   "source": []
  },
  {
   "cell_type": "code",
   "execution_count": 1,
   "id": "ef140c4e-017b-469a-9be9-b3229f5d95af",
   "metadata": {},
   "outputs": [],
   "source": [
    "test = {1:'a',2:'b',3:'c'}"
   ]
  },
  {
   "cell_type": "code",
   "execution_count": 5,
   "id": "aa44c1e9-f3f9-428f-9bad-4665ba5f6271",
   "metadata": {},
   "outputs": [
    {
     "ename": "TypeError",
     "evalue": "unhashable type: 'list'",
     "output_type": "error",
     "traceback": [
      "\u001b[0;31m---------------------------------------------------------------------------\u001b[0m",
      "\u001b[0;31mTypeError\u001b[0m                                 Traceback (most recent call last)",
      "Input \u001b[0;32mIn [5]\u001b[0m, in \u001b[0;36m<cell line: 1>\u001b[0;34m()\u001b[0m\n\u001b[0;32m----> 1\u001b[0m \u001b[43mtest\u001b[49m\u001b[43m[\u001b[49m\u001b[43m[\u001b[49m\u001b[38;5;241;43m1\u001b[39;49m\u001b[43m,\u001b[49m\u001b[38;5;241;43m2\u001b[39;49m\u001b[43m]\u001b[49m\u001b[43m]\u001b[49m\n",
      "\u001b[0;31mTypeError\u001b[0m: unhashable type: 'list'"
     ]
    }
   ],
   "source": [
    "test[]"
   ]
  },
  {
   "cell_type": "code",
   "execution_count": null,
   "id": "b7a80cf2-fd28-41a1-a059-242c3ceb842c",
   "metadata": {},
   "outputs": [],
   "source": []
  }
 ],
 "metadata": {
  "kernelspec": {
   "display_name": "Python 3",
   "language": "python",
   "name": "python3"
  },
  "language_info": {
   "codemirror_mode": {
    "name": "ipython",
    "version": 3
   },
   "file_extension": ".py",
   "mimetype": "text/x-python",
   "name": "python",
   "nbconvert_exporter": "python",
   "pygments_lexer": "ipython3",
   "version": "3.8.8"
  }
 },
 "nbformat": 4,
 "nbformat_minor": 5
}
